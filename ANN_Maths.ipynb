{
  "nbformat": 4,
  "nbformat_minor": 0,
  "metadata": {
    "colab": {
      "name": "ANN_Maths.ipynb",
      "provenance": [],
      "authorship_tag": "ABX9TyP07B6E4Pov2E13KWAJEwU5",
      "include_colab_link": true
    },
    "kernelspec": {
      "name": "python3",
      "display_name": "Python 3"
    },
    "language_info": {
      "name": "python"
    }
  },
  "cells": [
    {
      "cell_type": "markdown",
      "metadata": {
        "id": "view-in-github",
        "colab_type": "text"
      },
      "source": [
        "<a href=\"https://colab.research.google.com/github/Lotfullah21/Deep-Learning/blob/main/ANN_Maths.ipynb\" target=\"_parent\"><img src=\"https://colab.research.google.com/assets/colab-badge.svg\" alt=\"Open In Colab\"/></a>"
      ]
    },
    {
      "cell_type": "markdown",
      "source": [
        "## Introduction\n",
        "\n",
        "in this notebook we are going to look deeper into the artificial neurons and how they work."
      ],
      "metadata": {
        "id": "88meDfOGMi_m"
      }
    },
    {
      "cell_type": "code",
      "source": [
        "import numpy as np\n",
        "import matplotlib.pyplot as plt\n",
        "import tensorflow as tf\n",
        "import pandas as pd\n"
      ],
      "metadata": {
        "id": "3QUTeJ6NMzxz"
      },
      "execution_count": 3,
      "outputs": []
    },
    {
      "cell_type": "code",
      "source": [
        "def sigmoid(x):\n",
        "  return (1/(1+np.exp(-x)))"
      ],
      "metadata": {
        "id": "tS3tnxNxPNn_"
      },
      "execution_count": 10,
      "outputs": []
    },
    {
      "cell_type": "code",
      "source": [
        "def Dense(a_in, W, b, g):\n",
        "\n",
        "  units = W.shape[1]\n",
        "  a_out = np.zeros(units)\n",
        "  for j in range(units):\n",
        "    w = W[:,j]\n",
        "    z = np.dot(w,a_in) + b[j]\n",
        "    a_out[j] = sigmoid(z)\n",
        "  return a_out\n"
      ],
      "metadata": {
        "id": "SkO2X7rcOJV_"
      },
      "execution_count": 15,
      "outputs": []
    },
    {
      "cell_type": "code",
      "source": [
        "def Sequential(x,W1,b1,W2,b2):\n",
        "  a1 = Dense(x,W1,b1,sigmoid)\n",
        "  a2 = Dense(a1,W2,b2,sigmoid)\n",
        "  return a2 "
      ],
      "metadata": {
        "id": "TeXv14ubPEns"
      },
      "execution_count": 16,
      "outputs": []
    },
    {
      "cell_type": "code",
      "source": [
        "def Predict(X,W1,b1,W2,b2):\n",
        "  m = X.shape[0]\n",
        "  p = np.zeros((m,1))\n",
        "  for i in range(m):\n",
        "    p[i,0] = Sequential(X[i],W1,b1,W2,b2)\n",
        "  return p"
      ],
      "metadata": {
        "id": "wHPgff8xQKnZ"
      },
      "execution_count": 17,
      "outputs": []
    },
    {
      "cell_type": "code",
      "source": [
        "W1_tmp = np.array( [[-8.93,  0.29, 12.9 ], [-0.1,  -7.32, 10.81]] )\n",
        "b1_tmp = np.array( [-9.82, -9.28,  0.96] )\n",
        "W2_tmp = np.array( [[-31.18], [-27.59], [-32.56]] )\n",
        "b2_tmp = np.array( [15.41] )"
      ],
      "metadata": {
        "id": "BeVcctpgRFWD"
      },
      "execution_count": 18,
      "outputs": []
    },
    {
      "cell_type": "code",
      "source": [
        "norm_l = tf.keras.layers.Normalization(axis=-1)\n",
        "norm_l.adapt(X)  # learns mean, variance\n",
        "# # Xn = norm_l(X)"
      ],
      "metadata": {
        "id": "vlMG4nliRKPj"
      },
      "execution_count": 22,
      "outputs": []
    },
    {
      "cell_type": "code",
      "source": [
        "X_tst = np.array([\n",
        "    [200,13.9],  # postive example\n",
        "    [200,17]])   # negative example\n",
        "norm_l.adapt(X_tst)\n",
        "X_tstn = norm_l(X_tst)  # remember to normalize\n",
        "predictions = Predict(X_tstn, W1_tmp, b1_tmp, W2_tmp, b2_tmp)"
      ],
      "metadata": {
        "id": "ju-_L-R_RXv4"
      },
      "execution_count": 27,
      "outputs": []
    },
    {
      "cell_type": "code",
      "source": [
        "yhat = np.zeros_like(predictions)\n",
        "# Return an array of zeros with the same shape and type as a given array.\n",
        "for i in range(len(predictions)):\n",
        "    if predictions[i] >= 0.5:\n",
        "        yhat[i] = 1\n",
        "    else:\n",
        "        yhat[i] = 0\n",
        "print(f\"decisions = \\n{yhat}\")"
      ],
      "metadata": {
        "colab": {
          "base_uri": "https://localhost:8080/"
        },
        "id": "E1AsEa74Rttq",
        "outputId": "59036c8b-f8af-434c-e5d9-bd8c11eaf9cf"
      },
      "execution_count": 34,
      "outputs": [
        {
          "output_type": "stream",
          "name": "stdout",
          "text": [
            "decisions = \n",
            "[[1.]\n",
            " [0.]]\n"
          ]
        }
      ]
    },
    {
      "cell_type": "code",
      "source": [
        "yhat = (predictions >= 0.5).astype(int)\n",
        "print(f\"decisions = \\n{yhat}\")"
      ],
      "metadata": {
        "colab": {
          "base_uri": "https://localhost:8080/"
        },
        "id": "2mjIoUE9R_Vc",
        "outputId": "14899cea-5218-4361-ca22-7bc9618c9d1b"
      },
      "execution_count": 35,
      "outputs": [
        {
          "output_type": "stream",
          "name": "stdout",
          "text": [
            "decisions = \n",
            "[[1]\n",
            " [0]]\n"
          ]
        }
      ]
    }
  ]
}