{
  "nbformat": 4,
  "nbformat_minor": 0,
  "metadata": {
    "colab": {
      "name": "RNN.ipynb",
      "provenance": [],
      "collapsed_sections": [],
      "authorship_tag": "ABX9TyMoy9jCwUHAKNgnaC9sA05A",
      "include_colab_link": true
    },
    "kernelspec": {
      "name": "python3",
      "display_name": "Python 3"
    },
    "language_info": {
      "name": "python"
    }
  },
  "cells": [
    {
      "cell_type": "markdown",
      "metadata": {
        "id": "view-in-github",
        "colab_type": "text"
      },
      "source": [
        "<a href=\"https://colab.research.google.com/github/Lotfullah21/Deep-Learning/blob/main/RNN.ipynb\" target=\"_parent\"><img src=\"https://colab.research.google.com/assets/colab-badge.svg\" alt=\"Open In Colab\"/></a>"
      ]
    },
    {
      "cell_type": "code",
      "execution_count": 22,
      "metadata": {
        "id": "W0hmkoJO_Xd1"
      },
      "outputs": [],
      "source": [
        "import numpy as np\n",
        "time_steps = 100\n",
        "input_features = 32\n",
        "output_features = 64\n",
        "successive_outputs = []\n",
        "inputs = np.random.random((time_steps, input_features))\n",
        "state_t = np.zeros((output_features,))\n",
        "W = np.random.random((output_features, input_features))\n",
        "U = np.random.random((output_features, output_features))\n",
        "b = np.random.random((output_features,))\n",
        "for input_t in inputs:\n",
        "  output_t = np.tanh(np.dot(W,input_t)+np.dot(U, state_t)+b)\n",
        "  successive_outputs.append(output_t)\n",
        "  state_t = output_t\n",
        "final_output = np.concatenate(successive_outputs,axis=0)\n"
      ]
    },
    {
      "cell_type": "code",
      "source": [
        "import numpy as np\n",
        "timesteps = 100\n",
        "input_features = 32\n",
        "output_features = 64\n",
        "\n",
        "inputs = np.random.random((timesteps, input_features))\n",
        "state_t = np.zeros((output_features,))\n",
        "W = np.random.random((output_features, input_features))\n",
        "U = np.random.random((output_features, output_features))\n",
        "b = np.random.random((output_features,))\n",
        "\n",
        "successive_outputs = []\n",
        "for input_t in inputs:   \n",
        "    output_t = np.tanh(np.dot(W, input_t) + np.dot(U, state_t) + b)\n",
        "    successive_outputs.append(output_t)\n",
        "    state_t = output_t\n",
        "final_output_sequence = np.concatenate(successive_outputs, axis=0)\n"
      ],
      "metadata": {
        "id": "P8Tv4w8h_bIp"
      },
      "execution_count": 23,
      "outputs": []
    },
    {
      "cell_type": "code",
      "source": [
        "# Keras\n",
        "from keras.models import Sequential \n",
        "from keras.layers import Embedding, SimpleRNN\n",
        "model = Sequential()"
      ],
      "metadata": {
        "id": "HJHTEHi1w95U"
      },
      "execution_count": 24,
      "outputs": []
    },
    {
      "cell_type": "code",
      "source": [
        "model.add(Embedding(10000,32))\n",
        "model.add(SimpleRNN(32))\n",
        "model.summary()"
      ],
      "metadata": {
        "colab": {
          "base_uri": "https://localhost:8080/"
        },
        "id": "0geKP-IZ7AqM",
        "outputId": "171d89a1-ee57-4c6d-b918-54cddbb33539"
      },
      "execution_count": 25,
      "outputs": [
        {
          "output_type": "stream",
          "name": "stdout",
          "text": [
            "Model: \"sequential_5\"\n",
            "_________________________________________________________________\n",
            " Layer (type)                Output Shape              Param #   \n",
            "=================================================================\n",
            " embedding_5 (Embedding)     (None, None, 32)          320000    \n",
            "                                                                 \n",
            " simple_rnn_15 (SimpleRNN)   (None, 32)                2080      \n",
            "                                                                 \n",
            "=================================================================\n",
            "Total params: 322,080\n",
            "Trainable params: 322,080\n",
            "Non-trainable params: 0\n",
            "_________________________________________________________________\n"
          ]
        }
      ]
    },
    {
      "cell_type": "code",
      "source": [
        "model = Sequential()\n",
        "model.add(Embedding(10000,32))\n",
        "model.add(SimpleRNN(32, return_sequences=True))\n",
        "model.add(SimpleRNN(32, return_sequences=True))\n",
        "model.add(SimpleRNN(32, return_sequences=True))\n",
        "model.add(SimpleRNN(32, return_sequences=True))\n",
        "model.add(SimpleRNN(32, return_sequences=True))\n",
        "model.add(SimpleRNN(32, return_sequences=True))\n",
        "model.summary()"
      ],
      "metadata": {
        "colab": {
          "base_uri": "https://localhost:8080/"
        },
        "id": "bTYuNQjI7Pi-",
        "outputId": "26a37105-5d33-4277-d1ca-c5aa6cf7811a"
      },
      "execution_count": 26,
      "outputs": [
        {
          "output_type": "stream",
          "name": "stdout",
          "text": [
            "Model: \"sequential_6\"\n",
            "_________________________________________________________________\n",
            " Layer (type)                Output Shape              Param #   \n",
            "=================================================================\n",
            " embedding_6 (Embedding)     (None, None, 32)          320000    \n",
            "                                                                 \n",
            " simple_rnn_16 (SimpleRNN)   (None, None, 32)          2080      \n",
            "                                                                 \n",
            " simple_rnn_17 (SimpleRNN)   (None, None, 32)          2080      \n",
            "                                                                 \n",
            " simple_rnn_18 (SimpleRNN)   (None, None, 32)          2080      \n",
            "                                                                 \n",
            " simple_rnn_19 (SimpleRNN)   (None, None, 32)          2080      \n",
            "                                                                 \n",
            " simple_rnn_20 (SimpleRNN)   (None, None, 32)          2080      \n",
            "                                                                 \n",
            " simple_rnn_21 (SimpleRNN)   (None, None, 32)          2080      \n",
            "                                                                 \n",
            "=================================================================\n",
            "Total params: 332,480\n",
            "Trainable params: 332,480\n",
            "Non-trainable params: 0\n",
            "_________________________________________________________________\n"
          ]
        }
      ]
    },
    {
      "cell_type": "code",
      "source": [
        "model = Sequential()\n",
        "model.add(Embedding(10000,32))\n",
        "\n",
        "model.add(SimpleRNN(32, return_sequences=True))\n",
        "model.summary()"
      ],
      "metadata": {
        "colab": {
          "base_uri": "https://localhost:8080/"
        },
        "id": "BkIspBIG7e4_",
        "outputId": "2bd34c67-bf2f-491b-dd47-0c158389cc57"
      },
      "execution_count": 27,
      "outputs": [
        {
          "output_type": "stream",
          "name": "stdout",
          "text": [
            "Model: \"sequential_7\"\n",
            "_________________________________________________________________\n",
            " Layer (type)                Output Shape              Param #   \n",
            "=================================================================\n",
            " embedding_7 (Embedding)     (None, None, 32)          320000    \n",
            "                                                                 \n",
            " simple_rnn_22 (SimpleRNN)   (None, None, 32)          2080      \n",
            "                                                                 \n",
            "=================================================================\n",
            "Total params: 322,080\n",
            "Trainable params: 322,080\n",
            "Non-trainable params: 0\n",
            "_________________________________________________________________\n"
          ]
        }
      ]
    },
    {
      "cell_type": "markdown",
      "source": [
        "## Let's use such a model on the IMBD movie-review-classification problem, First preprocess the data"
      ],
      "metadata": {
        "id": "WAqFc3ML8TWU"
      }
    },
    {
      "cell_type": "code",
      "source": [
        "from keras.datasets import imdb\n",
        "from keras.preprocessing import sequence\n",
        "\n",
        "max_features = 10000\n",
        "maxlen = 1000\n",
        "batch_size = 32\n",
        "print(\"loading data ....\")\n",
        "\n",
        "(train_data, train_labels),(test_data, test_labels) = imdb.load_data(num_words=max_features)\n",
        "\n",
        "print(len(train_data),\"train sequence\")\n",
        "print(len(test_data),\"test sequence\")\n",
        "\n",
        "print(\"pad sequences (sample x time)\")\n",
        "train_data = sequence.pad_sequences(train_data, maxlen = maxlen)\n",
        "test_data = sequence.pad_sequences(test_data, maxlen = maxlen)\n",
        "print(\"train data shape\",train_data.shape)\n",
        "print(\"test data shape\",test_data.shape)\n",
        "\n"
      ],
      "metadata": {
        "colab": {
          "base_uri": "https://localhost:8080/"
        },
        "id": "LqwYgYti8lRw",
        "outputId": "3627c360-d15a-4a25-d751-ead2eb67a3d9"
      },
      "execution_count": 28,
      "outputs": [
        {
          "output_type": "stream",
          "name": "stdout",
          "text": [
            "loading data ....\n",
            "25000 train sequence\n",
            "25000 test sequence\n",
            "pad sequences (sample x time)\n",
            "train data shape (25000, 1000)\n",
            "test data shape (25000, 1000)\n"
          ]
        }
      ]
    },
    {
      "cell_type": "markdown",
      "source": [
        "## Training the model with Embedding and simple RNN\n"
      ],
      "metadata": {
        "id": "xoEfM-Bf-jui"
      }
    },
    {
      "cell_type": "code",
      "source": [
        "from keras.layers import Dense\n",
        "model = Sequential()\n",
        "model.add(Embedding(max_features,32))\n",
        "model.add(SimpleRNN(32))\n",
        "model.add(Dense(1,activation = \"sigmoid\"))\n",
        "model.compile(optimizer = 'rmsprop', loss = \"binary_crossentropy\", metrics = ['acc'])\n",
        "history = model.fit(train_data, train_labels,epochs = 10, batch_size = 128, validation_split = 0.2)"
      ],
      "metadata": {
        "colab": {
          "base_uri": "https://localhost:8080/"
        },
        "id": "IupvUf0C-XYl",
        "outputId": "20101cd7-80c9-44dc-a4fb-8d44062a2ec7"
      },
      "execution_count": 29,
      "outputs": [
        {
          "output_type": "stream",
          "name": "stdout",
          "text": [
            "Epoch 1/10\n",
            "157/157 [==============================] - 56s 351ms/step - loss: 0.6272 - acc: 0.6295 - val_loss: 0.4639 - val_acc: 0.7934\n",
            "Epoch 2/10\n",
            "157/157 [==============================] - 55s 350ms/step - loss: 0.3825 - acc: 0.8400 - val_loss: 0.3792 - val_acc: 0.8414\n",
            "Epoch 3/10\n",
            "157/157 [==============================] - 54s 343ms/step - loss: 0.2843 - acc: 0.8881 - val_loss: 0.3639 - val_acc: 0.8530\n",
            "Epoch 4/10\n",
            "157/157 [==============================] - 55s 349ms/step - loss: 0.2239 - acc: 0.9150 - val_loss: 0.3760 - val_acc: 0.8596\n",
            "Epoch 5/10\n",
            "157/157 [==============================] - 63s 401ms/step - loss: 0.1590 - acc: 0.9412 - val_loss: 0.4416 - val_acc: 0.8158\n",
            "Epoch 6/10\n",
            "157/157 [==============================] - 67s 430ms/step - loss: 0.1085 - acc: 0.9631 - val_loss: 0.4317 - val_acc: 0.8472\n",
            "Epoch 7/10\n",
            "157/157 [==============================] - 70s 446ms/step - loss: 0.0781 - acc: 0.9754 - val_loss: 0.5156 - val_acc: 0.8220\n",
            "Epoch 8/10\n",
            "157/157 [==============================] - 55s 353ms/step - loss: 0.0607 - acc: 0.9809 - val_loss: 0.5639 - val_acc: 0.8200\n",
            "Epoch 9/10\n",
            "157/157 [==============================] - 55s 348ms/step - loss: 0.0316 - acc: 0.9908 - val_loss: 0.7000 - val_acc: 0.7984\n",
            "Epoch 10/10\n",
            "157/157 [==============================] - 56s 355ms/step - loss: 0.0222 - acc: 0.9933 - val_loss: 0.6746 - val_acc: 0.8108\n"
          ]
        }
      ]
    },
    {
      "cell_type": "code",
      "source": [],
      "metadata": {
        "id": "gm0rwCXqDhcY"
      },
      "execution_count": null,
      "outputs": []
    },
    {
      "cell_type": "code",
      "source": [
        "import matplotlib.pyplot as plt\n",
        "acc = history.history['acc']\n",
        "val_acc = history.history['val_acc']\n",
        "loss = history.history['loss']\n",
        "val_loss = history.history['val_loss']\n",
        "epochs = range(1, len(acc)+1)\n",
        "plt.plot(epochs, acc, 'bo', label = \"training acc\")\n",
        "plt.plot(epochs, val_acc , 'b' , c = 'r', label = \"validation acc\")\n",
        "plt.title(\"Training and Validation accuaracy\")\n",
        "plt.legend()\n",
        "plt.figure()"
      ],
      "metadata": {
        "colab": {
          "base_uri": "https://localhost:8080/",
          "height": 316
        },
        "id": "ZSYiMoQ3_xji",
        "outputId": "8f06e9ee-e005-4ba6-eb65-1ff412f4ae16"
      },
      "execution_count": 30,
      "outputs": [
        {
          "output_type": "execute_result",
          "data": {
            "text/plain": [
              "<Figure size 432x288 with 0 Axes>"
            ]
          },
          "metadata": {},
          "execution_count": 30
        },
        {
          "output_type": "display_data",
          "data": {
            "text/plain": [
              "<Figure size 432x288 with 1 Axes>"
            ],
            "image/png": "[encoded data removed]"
          },
          "metadata": {
            "needs_background": "light"
          }
        },
        {
          "output_type": "display_data",
          "data": {
            "text/plain": [
              "<Figure size 432x288 with 0 Axes>"
            ]
          },
          "metadata": {}
        }
      ]
    },
    {
      "cell_type": "code",
      "source": [
        "plt.plot(epochs, loss, 'bo', label = \"training loss\")\n",
        "plt.plot(epochs, val_loss , 'b' , c = 'r', label = \"validation loss\")\n",
        "plt.title(\"Training and Validation loss\")\n",
        "plt.legend()\n",
        "plt.figure()"
      ],
      "metadata": {
        "colab": {
          "base_uri": "https://localhost:8080/",
          "height": 316
        },
        "id": "wi9zLjEFBHU8",
        "outputId": "1dffebe7-2cd9-4529-e242-612046f2930d"
      },
      "execution_count": 31,
      "outputs": [
        {
          "output_type": "execute_result",
          "data": {
            "text/plain": [
              "<Figure size 432x288 with 0 Axes>"
            ]
          },
          "metadata": {},
          "execution_count": 31
        },
        {
          "output_type": "display_data",
          "data": {
            "text/plain": [
              "<Figure size 432x288 with 1 Axes>"
            ],
            "image/png": "[encoded data removed]"
          },
          "metadata": {
            "needs_background": "light"
          }
        },
        {
          "output_type": "display_data",
          "data": {
            "text/plain": [
              "<Figure size 432x288 with 0 Axes>"
            ]
          },
          "metadata": {}
        }
      ]
    },
    {
      "cell_type": "markdown",
      "source": [
        "## LSTM"
      ],
      "metadata": {
        "id": "FGQZ1eT9EJNa"
      }
    },
    {
      "cell_type": "code",
      "source": [
        "from keras.layers import Dense\n",
        "from keras.layers import LSTM\n",
        "model = Sequential()\n",
        "model.add(Embedding(max_features,32))\n",
        "model.add(LSTM(32))\n",
        "model.add(Dense(1,activation = \"sigmoid\"))\n",
        "\n",
        "model.compile(optimizer = 'rmsprop', loss = \"binary_crossentropy\", metrics = ['acc'])\n",
        "history = model.fit(train_data, train_labels,epochs = 10, batch_size = 128, validation_split = 0.2)"
      ],
      "metadata": {
        "colab": {
          "base_uri": "https://localhost:8080/"
        },
        "id": "GkyjrBmaEGdQ",
        "outputId": "a6a25016-06d6-4eec-fc40-9a65161d7874"
      },
      "execution_count": 32,
      "outputs": [
        {
          "output_type": "stream",
          "name": "stdout",
          "text": [
            "Epoch 1/10\n",
            "157/157 [==============================] - 117s 732ms/step - loss: 0.5158 - acc: 0.7649 - val_loss: 0.3934 - val_acc: 0.8372\n",
            "Epoch 2/10\n",
            "157/157 [==============================] - 114s 729ms/step - loss: 0.2996 - acc: 0.8838 - val_loss: 0.2817 - val_acc: 0.8862\n",
            "Epoch 3/10\n",
            "157/157 [==============================] - 128s 817ms/step - loss: 0.2391 - acc: 0.9086 - val_loss: 0.2714 - val_acc: 0.8924\n",
            "Epoch 4/10\n",
            "157/157 [==============================] - 128s 812ms/step - loss: 0.2110 - acc: 0.9256 - val_loss: 0.3091 - val_acc: 0.8884\n",
            "Epoch 5/10\n",
            "157/157 [==============================] - 128s 814ms/step - loss: 0.1842 - acc: 0.9337 - val_loss: 0.2904 - val_acc: 0.8824\n",
            "Epoch 6/10\n",
            "157/157 [==============================] - 128s 816ms/step - loss: 0.1612 - acc: 0.9437 - val_loss: 1.2519 - val_acc: 0.6816\n",
            "Epoch 7/10\n",
            "157/157 [==============================] - 130s 826ms/step - loss: 0.1559 - acc: 0.9472 - val_loss: 0.3662 - val_acc: 0.8758\n",
            "Epoch 8/10\n",
            "157/157 [==============================] - 131s 838ms/step - loss: 0.1366 - acc: 0.9520 - val_loss: 0.3171 - val_acc: 0.8832\n",
            "Epoch 9/10\n",
            "157/157 [==============================] - 130s 828ms/step - loss: 0.1268 - acc: 0.9556 - val_loss: 0.3234 - val_acc: 0.8670\n",
            "Epoch 10/10\n",
            "157/157 [==============================] - 138s 882ms/step - loss: 0.1210 - acc: 0.9592 - val_loss: 0.3218 - val_acc: 0.8750\n"
          ]
        }
      ]
    },
    {
      "cell_type": "code",
      "source": [
        "import matplotlib.pyplot as plt\n",
        "acc = history.history['acc']\n",
        "val_acc = history.history['val_acc']\n",
        "loss = history.history['loss']\n",
        "val_loss = history.history['val_loss']\n",
        "epochs = range(1, len(acc)+1)\n",
        "plt.plot(epochs, acc, '*', label = \"training acc\")\n",
        "plt.plot(epochs, val_acc , 'b' , color = 'green', label = \"validation acc\")\n",
        "\n",
        "plt.legend()\n",
        "plt.figure()"
      ],
      "metadata": {
        "colab": {
          "base_uri": "https://localhost:8080/",
          "height": 300
        },
        "id": "B1-H1kjrDzO_",
        "outputId": "88d94288-b6d2-4d3d-823e-527afabd88ab"
      },
      "execution_count": 35,
      "outputs": [
        {
          "output_type": "execute_result",
          "data": {
            "text/plain": [
              "<Figure size 432x288 with 0 Axes>"
            ]
          },
          "metadata": {},
          "execution_count": 35
        },
        {
          "output_type": "display_data",
          "data": {
            "text/plain": [
              "<Figure size 432x288 with 1 Axes>"
            ],
            "image/png": "[encoded data removed]"
          },
          "metadata": {
            "needs_background": "light"
          }
        },
        {
          "output_type": "display_data",
          "data": {
            "text/plain": [
              "<Figure size 432x288 with 0 Axes>"
            ]
          },
          "metadata": {}
        }
      ]
    },
    {
      "cell_type": "code",
      "source": [
        "plt.title(\"Training and Validation loss\")\n",
        "plt.plot(epochs, loss, 'bo', label = \"training loss\")\n",
        "plt.plot(epochs, val_loss , 'b' , c = 'r', label = \"validation loss\")\n",
        "plt.title(\"Training and Validation loss\")\n",
        "plt.legend()\n",
        "plt.figure()"
      ],
      "metadata": {
        "colab": {
          "base_uri": "https://localhost:8080/",
          "height": 316
        },
        "id": "VsKy5T3yLHAo",
        "outputId": "0cda1843-f739-42de-cc31-7623dac7488c"
      },
      "execution_count": 36,
      "outputs": [
        {
          "output_type": "execute_result",
          "data": {
            "text/plain": [
              "<Figure size 432x288 with 0 Axes>"
            ]
          },
          "metadata": {},
          "execution_count": 36
        },
        {
          "output_type": "display_data",
          "data": {
            "text/plain": [
              "<Figure size 432x288 with 1 Axes>"
            ],
            "image/png": "[encoded data removed]"
          },
          "metadata": {
            "needs_background": "light"
          }
        },
        {
          "output_type": "display_data",
          "data": {
            "text/plain": [
              "<Figure size 432x288 with 0 Axes>"
            ]
          },
          "metadata": {}
        }
      ]
    },
    {
      "cell_type": "code",
      "source": [],
      "metadata": {
        "id": "TvZLu_nYLQ6p"
      },
      "execution_count": null,
      "outputs": []
    },
    {
      "cell_type": "markdown",
      "source": [],
      "metadata": {
        "id": "qunXYiC9K9oh"
      }
    },
    {
      "cell_type": "code",
      "source": [
        "import os\n",
        "data_dir = '/users/Lotfullah Andishmand/Downloads/climate'\n",
        "fname = os.path.join(data_dir, 'jena_climate_2009_2016.csv')\n",
        "f = open(fname)\n",
        "data = f.read()\n",
        "f.close()\n",
        "lines = data.split('\\n')\n",
        "header = lines[0].split(',')\n",
        "lines = lines[1:]\n",
        "print(header)\n",
        "print(len(lines))"
      ],
      "metadata": {
        "colab": {
          "base_uri": "https://localhost:8080/",
          "height": 252
        },
        "id": "mwF8D0f8JYPn",
        "outputId": "58cb76d7-3421-4190-da76-8c4affe6d895"
      },
      "execution_count": 43,
      "outputs": [
        {
          "output_type": "error",
          "ename": "FileNotFoundError",
          "evalue": "ignored",
          "traceback": [
            "\u001b[0;31m---------------------------------------------------------------------------\u001b[0m",
            "\u001b[0;31mFileNotFoundError\u001b[0m                         Traceback (most recent call last)",
            "\u001b[0;32m<ipython-input-43-90efa1ddbc77>\u001b[0m in \u001b[0;36m<module>\u001b[0;34m\u001b[0m\n\u001b[1;32m      2\u001b[0m \u001b[0mdata_dir\u001b[0m \u001b[0;34m=\u001b[0m \u001b[0;34m'/users/Lotfullah Andishmand/Downloads/climate'\u001b[0m\u001b[0;34m\u001b[0m\u001b[0;34m\u001b[0m\u001b[0m\n\u001b[1;32m      3\u001b[0m \u001b[0mfname\u001b[0m \u001b[0;34m=\u001b[0m \u001b[0mos\u001b[0m\u001b[0;34m.\u001b[0m\u001b[0mpath\u001b[0m\u001b[0;34m.\u001b[0m\u001b[0mjoin\u001b[0m\u001b[0;34m(\u001b[0m\u001b[0mdata_dir\u001b[0m\u001b[0;34m,\u001b[0m \u001b[0;34m'jena_climate_2009_2016.csv'\u001b[0m\u001b[0;34m)\u001b[0m\u001b[0;34m\u001b[0m\u001b[0;34m\u001b[0m\u001b[0m\n\u001b[0;32m----> 4\u001b[0;31m \u001b[0mf\u001b[0m \u001b[0;34m=\u001b[0m \u001b[0mopen\u001b[0m\u001b[0;34m(\u001b[0m\u001b[0mfname\u001b[0m\u001b[0;34m)\u001b[0m\u001b[0;34m\u001b[0m\u001b[0;34m\u001b[0m\u001b[0m\n\u001b[0m\u001b[1;32m      5\u001b[0m \u001b[0mdata\u001b[0m \u001b[0;34m=\u001b[0m \u001b[0mf\u001b[0m\u001b[0;34m.\u001b[0m\u001b[0mread\u001b[0m\u001b[0;34m(\u001b[0m\u001b[0;34m)\u001b[0m\u001b[0;34m\u001b[0m\u001b[0;34m\u001b[0m\u001b[0m\n\u001b[1;32m      6\u001b[0m \u001b[0mf\u001b[0m\u001b[0;34m.\u001b[0m\u001b[0mclose\u001b[0m\u001b[0;34m(\u001b[0m\u001b[0;34m)\u001b[0m\u001b[0;34m\u001b[0m\u001b[0;34m\u001b[0m\u001b[0m\n",
            "\u001b[0;31mFileNotFoundError\u001b[0m: [Errno 2] No such file or directory: '/users/Lotfullah Andishmand/Downloads/climate/jena_climate_2009_2016.csv'"
          ]
        }
      ]
    },
    {
      "cell_type": "code",
      "source": [
        "import os\n",
        "import pandas as pd\n",
        "data_dir = '/users/Lotfullah Andishmand/Downloads/jena_climate'\n",
        "fname = os.path.join(data_dir, 'jena_climate_2009_2016.csv')\n",
        "# f = open(fname)\n",
        "data = pd.read_csv(\"jena_climate_2009_2016.csv\")"
      ],
      "metadata": {
        "id": "b9Z6rlbeJlhY"
      },
      "execution_count": 48,
      "outputs": []
    },
    {
      "cell_type": "code",
      "source": [],
      "metadata": {
        "id": "Afxv7P_JLkX4"
      },
      "execution_count": null,
      "outputs": []
    }
  ]
}