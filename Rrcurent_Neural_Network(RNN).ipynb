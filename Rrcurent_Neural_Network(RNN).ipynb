{
  "nbformat": 4,
  "nbformat_minor": 0,
  "metadata": {
    "colab": {
      "name": "Rrcurent Neural Network(RNN).ipynb",
      "provenance": [],
      "authorship_tag": "ABX9TyNkziTzUU7viry5duygjko8",
      "include_colab_link": true
    },
    "kernelspec": {
      "name": "python3",
      "display_name": "Python 3"
    },
    "language_info": {
      "name": "python"
    }
  },
  "cells": [
    {
      "cell_type": "markdown",
      "metadata": {
        "id": "view-in-github",
        "colab_type": "text"
      },
      "source": [
        "<a href=\"https://colab.research.google.com/github/Lotfullah21/Deep-Learning/blob/main/Rrcurent_Neural_Network(RNN).ipynb\" target=\"_parent\"><img src=\"https://colab.research.google.com/assets/colab-badge.svg\" alt=\"Open In Colab\"/></a>"
      ]
    },
    {
      "cell_type": "markdown",
      "source": [
        "# RNN\n",
        "RNNs are a particular type of state machines with multidimension vector of real values as the sates.\n",
        "Here we same as Convnets we are having shared weights, but in RNNs those weights are tmeporal"
      ],
      "metadata": {
        "id": "QKrPrEAylVyw"
      }
    }
  ]
}